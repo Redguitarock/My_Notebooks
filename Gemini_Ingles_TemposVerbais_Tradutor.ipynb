{
  "nbformat": 4,
  "nbformat_minor": 0,
  "metadata": {
    "colab": {
      "provenance": [],
      "include_colab_link": true
    },
    "kernelspec": {
      "name": "python3",
      "display_name": "Python 3"
    },
    "language_info": {
      "name": "python"
    }
  },
  "cells": [
    {
      "cell_type": "markdown",
      "metadata": {
        "id": "view-in-github",
        "colab_type": "text"
      },
      "source": [
        "<a href=\"https://colab.research.google.com/github/Redguitarock/My_Notebooks/blob/main/Gemini_Ingles_TemposVerbais_Tradutor.ipynb\" target=\"_parent\"><img src=\"https://colab.research.google.com/assets/colab-badge.svg\" alt=\"Open In Colab\"/></a>"
      ]
    },
    {
      "cell_type": "code",
      "execution_count": 1,
      "metadata": {
        "colab": {
          "base_uri": "https://localhost:8080/",
          "height": 124
        },
        "id": "bL3YfrhX1LyU",
        "outputId": "7d4566e8-35f4-47a6-df79-b989bfe42d19"
      },
      "outputs": [
        {
          "output_type": "stream",
          "name": "stdout",
          "text": [
            "- Tradução: Retornar\n",
            "- Verbo regular.\n",
            "- REGRA 1: Verbos comuns acrescentam-se apenas \"ed\" no final.\n",
            "- PRESENTE: Return -- I **return** home at 6 pm. (Eu retorno para casa às 18h.) -- PASSADO: Returned -- She **returned** the book to the library. (Ela devolveu o livro para a biblioteca.) -- PARTICÍPIO: Returned -- The package has been **returned** to sender. (O pacote foi devolvido ao remetente.) \n",
            "\n"
          ]
        }
      ],
      "source": [
        "\"\"\"\n",
        "At the command line, only need to run once to install the package via pip:\n",
        "\n",
        "$ pip install google-generativeai\n",
        "\"\"\"\n",
        "\n",
        "import google.generativeai as genai\n",
        "from google.colab import userdata\n",
        "user_api_key = userdata.get('SECRET_KEY')\n",
        "genai.configure(api_key=user_api_key)\n",
        "\n",
        "\n",
        "# Set up the model\n",
        "generation_config = {\n",
        "  \"temperature\": 1,\n",
        "  \"top_p\": 0.95,\n",
        "  \"top_k\": 0,\n",
        "  \"max_output_tokens\": 8192,\n",
        "}\n",
        "\n",
        "safety_settings = [\n",
        "  {\n",
        "    \"category\": \"HARM_CATEGORY_HARASSMENT\",\n",
        "    \"threshold\": \"BLOCK_MEDIUM_AND_ABOVE\"\n",
        "  },\n",
        "  {\n",
        "    \"category\": \"HARM_CATEGORY_HATE_SPEECH\",\n",
        "    \"threshold\": \"BLOCK_MEDIUM_AND_ABOVE\"\n",
        "  },\n",
        "  {\n",
        "    \"category\": \"HARM_CATEGORY_SEXUALLY_EXPLICIT\",\n",
        "    \"threshold\": \"BLOCK_MEDIUM_AND_ABOVE\"\n",
        "  },\n",
        "  {\n",
        "    \"category\": \"HARM_CATEGORY_DANGEROUS_CONTENT\",\n",
        "    \"threshold\": \"BLOCK_MEDIUM_AND_ABOVE\"\n",
        "  },\n",
        "]\n",
        "\n",
        "model = genai.GenerativeModel(model_name=\"gemini-1.5-pro-latest\",\n",
        "                              generation_config=generation_config,\n",
        "                              safety_settings=safety_settings)\n",
        "\n",
        "convo = model.start_chat(history=[\n",
        "  {\n",
        "    \"role\": \"user\",\n",
        "    \"parts\": [\"quero que me passe os tempos verbais de cada verbo em inglês que eu escrever, para o português. Também se eles são regulares ou irregulares. Também a tradução desses verbos.\\nadote a regra para verbos regulares:\\nREGRA 1: Verbos comuns acrescentam-se apenas \\\"ed\\\" no final.\\nREGRA 2: Se o verbo terminar em “e”: recebem “d”.\\nREGRA 3: Se o verbo terminar em vogal + “y”: recebem “ed”.\\nREGRA 4:  Se o verbo terminar em consoante + “y”: troca-se por “ied”.\\nREGRA 5: Se o verbo terminar em consoante/vogal/consoante sendo que a  última sílaba é tônica dobra a última consoante + “ed”.\\nREGRA 6: Se o verbo terminar em “e”: recebem “d”.\\n\\nVerbos irregulares:\\nNão existe regra para a conjugação de um verbo irregular.\\nREGRA: MEMORIZAR\\n---\\n\\nlove\\n\\nTradução: Amar\\nVerbo regular.\\nREGRA 2: Se o verbo terminar em “e”: recebem “d”.\\nPRESENTE: Love -- PASSADO: Loved -- PARTICÍPIO: Loved\\n---\\ntry\\n\\nTradução: Tentar\\nVerbo regular.\\nREGRA 4:  Se o verbo terminar em consoante + “y”: troca-se por “ied”.\\nPRESENTE: Try -- PASSADO: Tried -- PARTICÍPIO: Tried\\n---\\nrun\\n\\n- Tradução: Correr\\n- Verbo irregular.\\n- REGRA: MEMORIZAR\\n- PRESENTE: Run -- PASSADO: Ran -- PARTICÍPIO: Run\\n---\\ncount\"]\n",
        "  },\n",
        "  {\n",
        "    \"role\": \"model\",\n",
        "    \"parts\": [\"- Tradução: Contar\\n- Verbo regular. \\n- REGRA 1: Verbos comuns acrescentam-se apenas \\\"ed\\\" no final.\\n- PRESENTE: Count -- PASSADO: Counted -- PARTICÍPIO: Counted\"]\n",
        "  },\n",
        "  {\n",
        "    \"role\": \"user\",\n",
        "    \"parts\": [\"take\"]\n",
        "  },\n",
        "  {\n",
        "    \"role\": \"model\",\n",
        "    \"parts\": [\"- Tradução: Tomar/Pegar\\n- Verbo irregular. \\n- REGRA: MEMORIZAR\\n- PRESENTE: Take -- PASSADO: Took -- PARTICÍPIO: Taken\"]\n",
        "  },\n",
        "  {\n",
        "    \"role\": \"user\",\n",
        "    \"parts\": [\"say\"]\n",
        "  },\n",
        "  {\n",
        "    \"role\": \"model\",\n",
        "    \"parts\": [\"- Tradução: Dizer\\n- Verbo irregular.\\n- REGRA: MEMORIZAR\\n- PRESENTE: Say -- PASSADO: Said -- PARTICÍPIO: Said\"]\n",
        "  },\n",
        "  {\n",
        "    \"role\": \"user\",\n",
        "    \"parts\": [\"be\"]\n",
        "  },\n",
        "  {\n",
        "    \"role\": \"model\",\n",
        "    \"parts\": [\"- Tradução: Ser/Estar \\n- Verbo irregular.\\n- REGRA: MEMORIZAR \\n- PRESENTE: Am/Is/Are -- PASSADO: Was/Were -- PARTICÍPIO: Been\"]\n",
        "  },\n",
        "  {\n",
        "    \"role\": \"user\",\n",
        "    \"parts\": [\"acrescente uma Frase simples e curta de exemplo na resposta para cada tempo verbal do verbo em questão.\\n\\nknow\"]\n",
        "  },\n",
        "  {\n",
        "    \"role\": \"model\",\n",
        "    \"parts\": [\"- Tradução: Saber/Conhecer\\n- Verbo irregular.\\n- REGRA: MEMORIZAR \\n- PRESENTE: Know --  I **know** her. (Eu a conheço.)  -- PASSADO: Knew --  I **knew** him when I was young. (Eu o conhecia quando era jovem) -- PARTICÍPIO: Known -- He is a **known** artist. (Ele é um artista conhecido.)\"]\n",
        "  },\n",
        "  {\n",
        "    \"role\": \"user\",\n",
        "    \"parts\": [\"cry\"]\n",
        "  },\n",
        "  {\n",
        "    \"role\": \"model\",\n",
        "    \"parts\": [\"- Tradução: Chorar\\n- Verbo regular.\\n- REGRA 4:  Se o verbo terminar em consoante + “y”: troca-se por “ied”.\\n- PRESENTE: Cry -- The baby **cries** a lot. (O bebê chora muito.) -- PASSADO: Cried -- She **cried** when she saw the movie. (Ela chorou quando viu o filme.) -- PARTICÍPIO: Cried -- The boy has **cried** all day. (O menino chorou o dia todo.)\"]\n",
        "  },\n",
        "])\n",
        "\n",
        "convo.send_message(\"return\")\n",
        "print(convo.last.text)"
      ]
    },
    {
      "cell_type": "code",
      "source": [
        "convo.send_message([\"eat\", \"look\", \"take\"])\n",
        "print(convo.last.text)"
      ],
      "metadata": {
        "colab": {
          "base_uri": "https://localhost:8080/",
          "height": 486
        },
        "id": "OAfgnKly18MA",
        "outputId": "ca68cb40-38a4-4c89-d074-50ce88650b96"
      },
      "execution_count": null,
      "outputs": [
        {
          "output_type": "stream",
          "name": "stdout",
          "text": [
            "## Eat\n",
            "\n",
            "- Tradução: Comer\n",
            "- Verbo irregular.\n",
            "- REGRA: MEMORIZAR\n",
            "- PRESENTE: Eat -- I **eat** breakfast at 8 am. (Eu como café da manhã às 8h.)\n",
            "- PASSADO: Ate -- They **ate** all the pizza. (Eles comeram toda a pizza.)\n",
            "- PARTICÍPIO: Eaten --  Have you **eaten** lunch yet? (Você já almoçou?)\n",
            "\n",
            "## Look\n",
            "\n",
            "- Tradução: Olhar\n",
            "- Verbo regular.\n",
            "- REGRA 1: Verbos comuns acrescentam-se apenas \"ed\" no final.\n",
            "- PRESENTE: Look -- **Look** at that beautiful bird! (Olhe aquele lindo pássaro!) \n",
            "- PASSADO: Looked -- She **looked** at me and smiled. (Ela olhou para mim e sorriu.)\n",
            "- PARTICÍPIO: Looked --  I have **looked** everywhere for my keys. (Procurei minhas chaves por toda parte.)\n",
            "\n",
            "## Take \n",
            "\n",
            "- Tradução: Tomar/Pegar\n",
            "- Verbo irregular. \n",
            "- REGRA: MEMORIZAR\n",
            "- PRESENTE: Take -- I **take** the bus to work. (Eu pego o ônibus para o trabalho.) \n",
            "- PASSADO: Took -- He **took** my phone by mistake. (Ele pegou meu telefone por engano.)\n",
            "- PARTICÍPIO: Taken -- The dog has been **taken** for a walk. (O cachorro foi levado para passear.) \n",
            "\n"
          ]
        }
      ]
    },
    {
      "cell_type": "code",
      "source": [
        "stop = 'stop'\n",
        "\n",
        "while True:\n",
        "    prompt = input('Digite \"stop\" quando quiser parar. Esperando o verbo: ')\n",
        "    if prompt == stop:\n",
        "      print('Sistema Finalizado')\n",
        "      break\n",
        "    convo.send_message(prompt)\n",
        "    print(convo.last.text)"
      ],
      "metadata": {
        "colab": {
          "base_uri": "https://localhost:8080/",
          "height": 384
        },
        "id": "9rEepZgAXU0X",
        "outputId": "d2930bce-9aa9-4506-ce88-2e32fba09cf4"
      },
      "execution_count": 2,
      "outputs": [
        {
          "output_type": "stream",
          "name": "stdout",
          "text": [
            "Digite \"stop\" quando quiser parar. Esperando o verbo: love\n",
            "- Tradução: Amar\n",
            "- Verbo regular.\n",
            "- REGRA 2: Se o verbo terminar em “e”: recebem “d”.\n",
            "- PRESENTE: Love -- I **love** my family. (Eu amo minha família.) -- PASSADO: Loved -- She **loved** him very much. (Ela o amava muito.) -- PARTICÍPIO: Loved -- He has **loved** her since they were children. (Ele a ama desde que eram crianças.) \n",
            "\n",
            "Digite \"stop\" quando quiser parar. Esperando o verbo: ride\n",
            "- Tradução: Andar (de bicicleta, moto, etc.)\n",
            "- Verbo irregular.\n",
            "- REGRA: MEMORIZAR\n",
            "- PRESENTE: Ride -- I **ride** my bike to work. (Eu vou de bicicleta para o trabalho.) -- PASSADO: Rode -- He **rode** his horse in the competition. (Ele montou seu cavalo na competição.) -- PARTICÍPIO: Ridden -- She has **ridden** a motorcycle before. (Ela já andou de moto antes.) \n",
            "\n",
            "Digite \"stop\" quando quiser parar. Esperando o verbo: walk\n",
            "- Tradução: Andar (a pé)\n",
            "- Verbo regular.\n",
            "- REGRA 1: Verbos comuns acrescentam-se apenas \"ed\" no final.\n",
            "- PRESENTE: Walk -- I **walk** to school every day. (Eu vou para a escola a pé todos os dias.) -- PASSADO: Walked -- We **walked** for hours in the park. (Nós caminhamos por horas no parque.) -- PARTICÍPIO: Walked -- He has **walked** the dog twice today. (Ele já passeou com o cachorro duas vezes hoje.) \n",
            "\n",
            "Digite \"stop\" quando quiser parar. Esperando o verbo: stop\n",
            "Sistema Finalizado\n"
          ]
        }
      ]
    }
  ]
}