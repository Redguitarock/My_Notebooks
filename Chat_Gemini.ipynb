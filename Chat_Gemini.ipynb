{
  "nbformat": 4,
  "nbformat_minor": 0,
  "metadata": {
    "colab": {
      "provenance": [],
      "authorship_tag": "ABX9TyN6AQActYQZRuHdgH8ibFeK",
      "include_colab_link": true
    },
    "kernelspec": {
      "name": "python3",
      "display_name": "Python 3"
    },
    "language_info": {
      "name": "python"
    }
  },
  "cells": [
    {
      "cell_type": "markdown",
      "metadata": {
        "id": "view-in-github",
        "colab_type": "text"
      },
      "source": [
        "<a href=\"https://colab.research.google.com/github/Redguitarock/My_Notebooks/blob/main/Chat_Gemini.ipynb\" target=\"_parent\"><img src=\"https://colab.research.google.com/assets/colab-badge.svg\" alt=\"Open In Colab\"/></a>"
      ]
    },
    {
      "cell_type": "code",
      "execution_count": null,
      "metadata": {
        "id": "IFMnfNOD3jjo"
      },
      "outputs": [],
      "source": [
        "pip install -q -U google-generativeai"
      ]
    },
    {
      "cell_type": "code",
      "source": [
        "import google.generativeai as genai\n",
        "from google.colab import userdata\n",
        "user_api_key = userdata.get('SECRET_KEY')\n",
        "\n",
        "genai.configure(api_key=user_api_key)"
      ],
      "metadata": {
        "id": "ovs6IB4p5XOT"
      },
      "execution_count": null,
      "outputs": []
    },
    {
      "cell_type": "code",
      "source": [
        "for m in genai.list_models():\n",
        "  if 'generateContent' in m.supported_generation_methods:\n",
        "    print(m.name)"
      ],
      "metadata": {
        "colab": {
          "base_uri": "https://localhost:8080/",
          "height": 139
        },
        "id": "M543Ixeo6Jxx",
        "outputId": "127b28fb-f93d-4caf-f5c8-2074817c8fbe"
      },
      "execution_count": null,
      "outputs": [
        {
          "output_type": "stream",
          "name": "stdout",
          "text": [
            "models/gemini-1.0-pro\n",
            "models/gemini-1.0-pro-001\n",
            "models/gemini-1.0-pro-latest\n",
            "models/gemini-1.0-pro-vision-latest\n",
            "models/gemini-1.5-pro-latest\n",
            "models/gemini-pro\n",
            "models/gemini-pro-vision\n"
          ]
        }
      ]
    },
    {
      "cell_type": "code",
      "source": [
        "generation_config = {\n",
        "    'candidate_count': 1,\n",
        "    'temperature': 0.5\n",
        "}"
      ],
      "metadata": {
        "id": "ErM0PU7N7HLZ"
      },
      "execution_count": null,
      "outputs": []
    },
    {
      "cell_type": "code",
      "source": [
        "safety_settings = {\n",
        "    'HARASSMENT': 'BLOCK_NONE',\n",
        "    'HATE': 'BLOCK_NONE',\n",
        "    'SEXUAL': 'BLOCK_NONE',\n",
        "    'DANGEROUS': 'BLOCK_NONE'\n",
        "    }"
      ],
      "metadata": {
        "id": "Vgp4CZy_9QoQ"
      },
      "execution_count": null,
      "outputs": []
    },
    {
      "cell_type": "markdown",
      "source": [
        "### INICIALIZANDO O MODELO"
      ],
      "metadata": {
        "id": "T8it-ywT-iTR"
      }
    },
    {
      "cell_type": "code",
      "source": [
        "model = genai.GenerativeModel(model_name='gemini-1.0-pro', generation_config=generation_config, safety_settings=safety_settings)"
      ],
      "metadata": {
        "id": "GOdL7cLv-JGb"
      },
      "execution_count": null,
      "outputs": []
    },
    {
      "cell_type": "code",
      "source": [
        "response = model.generate_content('Quero aprender python. Como seria o meu Olá mundo para começar?')\n",
        "print(response.text)"
      ],
      "metadata": {
        "colab": {
          "base_uri": "https://localhost:8080/",
          "height": 364
        },
        "id": "ZeHMpf3J_4-u",
        "outputId": "d4f829b1-d75a-46cf-b2ee-55c5b0e01dbf"
      },
      "execution_count": null,
      "outputs": [
        {
          "output_type": "stream",
          "name": "stdout",
          "text": [
            "**Python 3:**\n",
            "\n",
            "```python\n",
            "print(\"Olá, mundo!\")\n",
            "```\n",
            "\n",
            "**Python 2:**\n",
            "\n",
            "```python\n",
            "print \"Olá, mundo!\"\n",
            "```\n",
            "\n",
            "**Como executar:**\n",
            "\n",
            "1. Abra um terminal ou prompt de comando.\n",
            "2. Digite o comando \"python\" (ou \"python3\" para Python 3).\n",
            "3. Cole o código acima no terminal.\n",
            "4. Pressione Enter.\n",
            "\n",
            "Você verá a mensagem \"Olá, mundo!\" impressa no terminal.\n"
          ]
        }
      ]
    },
    {
      "cell_type": "code",
      "source": [
        "chat = model.start_chat(history=[])"
      ],
      "metadata": {
        "id": "6XxEFZhIBKz4"
      },
      "execution_count": null,
      "outputs": []
    },
    {
      "cell_type": "code",
      "source": [
        "stop = 'parar'\n",
        "\n",
        "while True:\n",
        "    prompt = input('Esperando o prompt: ')\n",
        "    if prompt == stop:\n",
        "      print('Sistema Finalizado')\n",
        "      break\n",
        "    response_user = chat.send_message(prompt)\n",
        "    print(response_user.text)\n"
      ],
      "metadata": {
        "colab": {
          "base_uri": "https://localhost:8080/",
          "height": 225
        },
        "id": "H_3cqc-oBoTV",
        "outputId": "cc460d0b-e423-4837-eac2-3baad88cf1c5"
      },
      "execution_count": null,
      "outputs": [
        {
          "output_type": "stream",
          "name": "stdout",
          "text": [
            "Esperando o prompt: cor da terra\n",
            "* Marrom\n",
            "* Bege\n",
            "* Ocre\n",
            "* Terracota\n",
            "* Sépia\n",
            "* Cáqui\n",
            "* Verde-oliva\n",
            "* Cinza\n",
            "* Preto\n",
            "Esperando o prompt: parar\n",
            "Sistema Finalizado\n"
          ]
        }
      ]
    }
  ]
}